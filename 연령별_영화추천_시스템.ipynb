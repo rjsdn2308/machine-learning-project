{
  "nbformat": 4,
  "nbformat_minor": 0,
  "metadata": {
    "colab": {
      "provenance": [],
      "include_colab_link": true
    },
    "kernelspec": {
      "name": "python3",
      "display_name": "Python 3"
    },
    "language_info": {
      "name": "python"
    }
  },
  "cells": [
    {
      "cell_type": "markdown",
      "metadata": {
        "id": "view-in-github",
        "colab_type": "text"
      },
      "source": [
        "<a href=\"https://colab.research.google.com/github/rjsdn2308/machine-learning-project/blob/main/%EC%97%B0%EB%A0%B9%EB%B3%84_%EC%98%81%ED%99%94%EC%B6%94%EC%B2%9C_%EC%8B%9C%EC%8A%A4%ED%85%9C.ipynb\" target=\"_parent\"><img src=\"https://colab.research.google.com/assets/colab-badge.svg\" alt=\"Open In Colab\"/></a>"
      ]
    },
    {
      "cell_type": "markdown",
      "source": [
        "#1. 필요한 라이브러리 설치 및 로드하기"
      ],
      "metadata": {
        "id": "JM-ArDytuFas"
      }
    },
    {
      "cell_type": "code",
      "source": [
        "!pip install pandas numpy scikit-learn\n",
        "import pandas as pd\n",
        "import numpy as np\n",
        "from sklearn.feature_extraction.text import TfidfVectorizer\n",
        "from sklearn.metrics.pairwise import cosine_similarity\n"
      ],
      "metadata": {
        "colab": {
          "base_uri": "https://localhost:8080/"
        },
        "id": "OpLQL9RVu4Js",
        "outputId": "cee4e3f1-bdc8-4b88-fa1b-0461b78780e8"
      },
      "execution_count": null,
      "outputs": [
        {
          "output_type": "stream",
          "name": "stdout",
          "text": [
            "Requirement already satisfied: pandas in /usr/local/lib/python3.11/dist-packages (2.2.2)\n",
            "Requirement already satisfied: numpy in /usr/local/lib/python3.11/dist-packages (1.26.4)\n",
            "Requirement already satisfied: scikit-learn in /usr/local/lib/python3.11/dist-packages (1.6.1)\n",
            "Requirement already satisfied: python-dateutil>=2.8.2 in /usr/local/lib/python3.11/dist-packages (from pandas) (2.8.2)\n",
            "Requirement already satisfied: pytz>=2020.1 in /usr/local/lib/python3.11/dist-packages (from pandas) (2025.1)\n",
            "Requirement already satisfied: tzdata>=2022.7 in /usr/local/lib/python3.11/dist-packages (from pandas) (2025.1)\n",
            "Requirement already satisfied: scipy>=1.6.0 in /usr/local/lib/python3.11/dist-packages (from scikit-learn) (1.13.1)\n",
            "Requirement already satisfied: joblib>=1.2.0 in /usr/local/lib/python3.11/dist-packages (from scikit-learn) (1.4.2)\n",
            "Requirement already satisfied: threadpoolctl>=3.1.0 in /usr/local/lib/python3.11/dist-packages (from scikit-learn) (3.5.0)\n",
            "Requirement already satisfied: six>=1.5 in /usr/local/lib/python3.11/dist-packages (from python-dateutil>=2.8.2->pandas) (1.17.0)\n"
          ]
        }
      ]
    },
    {
      "cell_type": "markdown",
      "source": [
        "#2. 데이터 전처리\n",
        "- 영화 개요, 징르, 키워드 등 핵심 정보를 추출\n",
        "- JSON 형식 컬럼을 파싱하여 텍스트 토큰화"
      ],
      "metadata": {
        "id": "zcF8EBZ-uRSD"
      }
    },
    {
      "cell_type": "code",
      "source": [
        "# 데이터 로딩\n",
        "movies = pd.read_csv('/content/drive/MyDrive/ml/tmdb_5000_movies.csv')\n",
        "credits = pd.read_csv('/content/drive/MyDrive/ml/tmdb_5000_credits.csv')\n",
        "\n",
        "# release_date → 연도로 변환\n",
        "movies['release_year'] = pd.to_datetime(movies['release_date'], errors='coerce').dt.year\n",
        "\n",
        "# 필요 컬럼만 선택\n",
        "movies = movies[['id','title','overview','genres','keywords','release_year','popularity','vote_average']]\n",
        "\n",
        "# JSON 문자열 파싱 함수\n",
        "import ast\n",
        "def parse_list_column(text):\n",
        "    try:\n",
        "        items = ast.literal_eval(text)\n",
        "        return [ x['name'].replace(' ', '') for x in items ]\n",
        "    except:\n",
        "        return []\n",
        "\n",
        "# genres, keywords 전처리\n",
        "movies['genres_list']   = movies['genres'].apply(parse_list_column)\n",
        "movies['keywords_list'] = movies['keywords'].apply(parse_list_column)\n"
      ],
      "metadata": {
        "colab": {
          "base_uri": "https://localhost:8080/"
        },
        "id": "cy0QBXyrvA7n",
        "outputId": "ce4a63fe-74c5-4a82-93e3-e2dd1f354856"
      },
      "execution_count": null,
      "outputs": [
        {
          "output_type": "stream",
          "name": "stderr",
          "text": [
            "<ipython-input-9-2cde93acc190>:21: SettingWithCopyWarning: \n",
            "A value is trying to be set on a copy of a slice from a DataFrame.\n",
            "Try using .loc[row_indexer,col_indexer] = value instead\n",
            "\n",
            "See the caveats in the documentation: https://pandas.pydata.org/pandas-docs/stable/user_guide/indexing.html#returning-a-view-versus-a-copy\n",
            "  movies['genres_list']   = movies['genres'].apply(parse_list_column)\n"
          ]
        }
      ]
    },
    {
      "cell_type": "markdown",
      "source": [
        "#3. 콘텐츠 기반 특징 결합\n"
      ],
      "metadata": {
        "id": "kaN4dNdXuukU"
      }
    },
    {
      "cell_type": "code",
      "source": [
        "# 텍스트 피쳐 결합\n",
        "def combine_features(row):\n",
        "    tokens = row['genres_list'] + row['keywords_list']\n",
        "    # overview는 단어 추출량이 많으므로 길이 제한\n",
        "    overview = row['overview'] if isinstance(row['overview'], str) else ''\n",
        "    return ' '.join(tokens) + ' ' + overview\n",
        "\n",
        "movies['meta'] = movies.apply(combine_features, axis=1)\n",
        "# 장르, 키워드, 줄거리 등을 하나의 메타 문자열로 결합하여 텍스트 피처 생성"
      ],
      "metadata": {
        "id": "p0JukFVuvWyf"
      },
      "execution_count": null,
      "outputs": []
    },
    {
      "cell_type": "markdown",
      "source": [
        "#4. TF-IDF 벡터화 및 코사인 유사도"
      ],
      "metadata": {
        "id": "O1LOUB3TvEgQ"
      }
    },
    {
      "cell_type": "code",
      "source": [
        "tfidf = TfidfVectorizer(stop_words='english', max_features=5000)\n",
        "tfidf_matrix = tfidf.fit_transform(movies['meta'])\n",
        "\n",
        "# 코사인 유사도 계산\n",
        "cosine_sim = cosine_similarity(tfidf_matrix, tfidf_matrix)\n",
        "# 영화 간 유사도 행렬 생성\n",
        "# 유사도 기반 추천에 사용"
      ],
      "metadata": {
        "id": "jh9KOxKAvaCR"
      },
      "execution_count": null,
      "outputs": []
    },
    {
      "cell_type": "markdown",
      "source": [
        "#5. 유사 영화 추천 시스템"
      ],
      "metadata": {
        "id": "Ag9SAYXKvZv6"
      }
    },
    {
      "cell_type": "code",
      "source": [
        "# 타이틀 → 인덱스 매핑\n",
        "title_to_idx = pd.Series(movies.index, index=movies['title']).drop_duplicates()\n",
        "\n",
        "def recommend_similar(title, top_n=10): #사용자가 좋아하는 영화와 유사한 다른 영화를 추천\n",
        "    idx = title_to_idx[title]\n",
        "    sim_scores = list(enumerate(cosine_sim[idx]))\n",
        "    sim_scores = sorted(sim_scores, key=lambda x: x[1], reverse=True)[1: top_n+1]\n",
        "    rec_indices = [ i for i, _ in sim_scores ]\n",
        "    return movies.iloc[rec_indices][['title','release_year','popularity','vote_average']]\n"
      ],
      "metadata": {
        "id": "sDAXRhknv0_3"
      },
      "execution_count": null,
      "outputs": []
    },
    {
      "cell_type": "markdown",
      "source": [
        "#6. 연령 기반 영화 추천 함수"
      ],
      "metadata": {
        "id": "DnCqWq_7vdjI"
      }
    },
    {
      "cell_type": "code",
      "source": [
        "import datetime\n",
        "\n",
        "CURRENT_YEAR = datetime.datetime.now().year  # 예: 2025\n",
        "\n",
        "def recommend_by_age(age, top_n=10): # 사용자의 출생 연도를 기준으로 특정 시기의 영화를 추천\n",
        "    birth_year = CURRENT_YEAR - age\n",
        "    # 예: 사용자가 25세라면, 1990~2000년대 영화 추천\n",
        "    start = birth_year + 5   # 5~15세 시기\n",
        "    end   = birth_year + 15\n",
        "    mask = (movies['release_year'] >= start) & (movies['release_year'] <= end)\n",
        "\n",
        "    subset = movies[mask].sort_values('popularity', ascending=False)\n",
        "    return subset.head(top_n)[['title','release_year','popularity','vote_average']]\n",
        "\n",
        "def recommend_age_content(age, favorite_title, top_n=5): # 사용자의 연령대를 고려한 후, 해당 범위 내 유사 영화를 추천\n",
        "    \"\"\"연령 필터 후, 특정 영화 기반 유사도 추천\"\"\"\n",
        "    # 연령별 범위 인덱스\n",
        "    yr_start = (CURRENT_YEAR - age) + 5\n",
        "    yr_end   = (CURRENT_YEAR - age) + 15\n",
        "    valid_idx = movies[(movies['release_year']>=yr_start)&(movies['release_year']<=yr_end)].index\n",
        "    # 해당 연령대 풀에서 유사도 추출\n",
        "    idx0 = title_to_idx[favorite_title]\n",
        "    scores = [(i, cosine_sim[idx0][i]) for i in valid_idx]\n",
        "    scores = sorted(scores, key=lambda x: x[1], reverse=True)[1: top_n+1]\n",
        "    recs = [i for i,_ in scores]\n",
        "    return movies.iloc[recs][['title','release_year','popularity','vote_average']]\n"
      ],
      "metadata": {
        "id": "wZM3oLLvvkDH"
      },
      "execution_count": 1,
      "outputs": []
    },
    {
      "cell_type": "code",
      "source": [],
      "metadata": {
        "id": "39ypH8C7PPlL"
      },
      "execution_count": null,
      "outputs": []
    }
  ]
}